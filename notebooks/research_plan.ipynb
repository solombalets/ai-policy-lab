{
 "cells": [
  {
   "cell_type": "markdown",
   "id": "c3864b41",
   "metadata": {},
   "source": [
    "# Research Plan: Political Rhetoric and NLP"
   ]
  },
  {
   "cell_type": "markdown",
   "id": "9e983443",
   "metadata": {},
   "source": [
    "## Objective\n",
    "To analyze political rhetoric using NLP tools (topic modeling, sentiment analysis, discourse framing) across various institutional and media corpora."
   ]
  },
  {
   "cell_type": "markdown",
   "id": "56cbbb16",
   "metadata": {},
   "source": [
    "## Research Questions\n",
    "- How do political narratives evolve in response to key events (e.g. war, crises)?\n",
    "- Can NLP methods detect patterns of framing or ideological polarization?\n",
    "- How do rhetoric and hybrid conflict tactics correlate?"
   ]
  },
  {
   "cell_type": "markdown",
   "id": "200f89b7",
   "metadata": {},
   "source": [
    "## Datasets\n",
    "(Brief overview or reference to `data_sources.md`)"
   ]
  },
  {
   "cell_type": "markdown",
   "id": "d268d42e",
   "metadata": {},
   "source": [
    "## Methodology\n",
    "- Corpus collection & preprocessing\n",
    "- Tokenization, vectorization (TF-IDF / embeddings)\n",
    "- LDA / BERTopic for topic modeling\n",
    "- Sentiment analysis (VADER, transformers)\n",
    "- Framing detection via zero-shot classification or fine-tuned models"
   ]
  },
  {
   "cell_type": "markdown",
   "id": "16557799",
   "metadata": {},
   "source": [
    "## Tools & Libraries\n",
    "- spaCy, HuggingFace Transformers\n",
    "- BERTopic, scikit-learn, pandas\n",
    "- Jupyter, GitHub, Notion"
   ]
  },
  {
   "cell_type": "markdown",
   "id": "c40e2885",
   "metadata": {},
   "source": [
    "## Timeline (Initial Draft)\n",
    "- Week 1–2: Corpus selection, preprocessing\n",
    "- Week 3: Initial modeling, exploratory results\n",
    "- Week 4+: Evaluation, polishing, reporting"
   ]
  },
  {
   "cell_type": "markdown",
   "id": "0558cd34",
   "metadata": {},
   "source": [
    "## Notes\n",
    "(Use this section for reflections, challenges, and observations during the research process.)"
   ]
  }
 ],
 "metadata": {},
 "nbformat": 4,
 "nbformat_minor": 5
}